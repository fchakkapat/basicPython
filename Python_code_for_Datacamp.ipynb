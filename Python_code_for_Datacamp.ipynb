{
  "nbformat": 4,
  "nbformat_minor": 0,
  "metadata": {
    "colab": {
      "provenance": [],
      "authorship_tag": "ABX9TyMqgSaUhPrBvbLQf9vViVGf",
      "include_colab_link": true
    },
    "kernelspec": {
      "name": "python3",
      "display_name": "Python 3"
    },
    "language_info": {
      "name": "python"
    }
  },
  "cells": [
    {
      "cell_type": "markdown",
      "metadata": {
        "id": "view-in-github",
        "colab_type": "text"
      },
      "source": [
        "<a href=\"https://colab.research.google.com/github/fchakkapat/basicPython/blob/main/Python_code_for_Datacamp.ipynb\" target=\"_parent\"><img src=\"https://colab.research.google.com/assets/colab-badge.svg\" alt=\"Open In Colab\"/></a>"
      ]
    },
    {
      "cell_type": "markdown",
      "source": [
        "# Problem 1"
      ],
      "metadata": {
        "id": "Q_mvRvkbDaGS"
      }
    },
    {
      "cell_type": "code",
      "execution_count": null,
      "metadata": {
        "colab": {
          "base_uri": "https://localhost:8080/",
          "height": 35
        },
        "id": "84_lyQWbAptv",
        "outputId": "3e3693dc-603f-4712-853a-898ec1759d6f"
      },
      "outputs": [
        {
          "output_type": "execute_result",
          "data": {
            "text/plain": [
              "'Michael'"
            ],
            "application/vnd.google.colaboratory.intrinsic+json": {
              "type": "string"
            }
          },
          "metadata": {},
          "execution_count": 1
        }
      ],
      "source": [
        "class Person:\n",
        "    def __init__(self, name):\n",
        "      self.name = name\n",
        "\n",
        "m = Person('Michael')\n",
        "m.name\n",
        "\n",
        "#Output : 'Michael'"
      ]
    },
    {
      "cell_type": "markdown",
      "source": [
        "# Problem2"
      ],
      "metadata": {
        "id": "-O0Kmcp__5X4"
      }
    },
    {
      "cell_type": "code",
      "source": [
        "def number_squared(x):\n",
        "  print(x ** 2)\n",
        "  \n",
        "number_squared(3)\n",
        "\n",
        "#output 9"
      ],
      "metadata": {
        "colab": {
          "base_uri": "https://localhost:8080/"
        },
        "id": "xuqfFw6oAF_b",
        "outputId": "c4bfa084-8add-4126-8336-5c2872673f45"
      },
      "execution_count": null,
      "outputs": [
        {
          "output_type": "stream",
          "name": "stdout",
          "text": [
            "9\n"
          ]
        }
      ]
    },
    {
      "cell_type": "markdown",
      "source": [
        "# Problem3"
      ],
      "metadata": {
        "id": "fVWgYIeHBB6w"
      }
    },
    {
      "cell_type": "code",
      "source": [
        "numbers = [9, 2, 5, 11, 4, 3]\n",
        "largest = max(numbers)\n",
        "print(largest)\n",
        "\n",
        "#output max value"
      ],
      "metadata": {
        "colab": {
          "base_uri": "https://localhost:8080/"
        },
        "outputId": "41e5d0c5-bbc0-4c96-dc28-f1e04207dfc8",
        "id": "rBB6eMCYBB7Z"
      },
      "execution_count": null,
      "outputs": [
        {
          "output_type": "stream",
          "name": "stdout",
          "text": [
            "11\n"
          ]
        }
      ]
    },
    {
      "cell_type": "markdown",
      "source": [
        "# Problem4"
      ],
      "metadata": {
        "id": "WGd7UQIRBvGg"
      }
    },
    {
      "cell_type": "code",
      "source": [
        "class Dog:\n",
        "    def __init__(self):\n",
        "        pass\n",
        "    \n",
        "    def bark(self):\n",
        "        return \"bark bark bark bark bark bark...\"\n",
        "\n",
        "d = Dog()\n",
        "#output : bark bark bark bark bark bark...\n",
        "d.bark()"
      ],
      "metadata": {
        "colab": {
          "base_uri": "https://localhost:8080/",
          "height": 35
        },
        "id": "NI6DVOR2B0K9",
        "outputId": "fa28d296-a321-4357-ed63-8e0d561429c5"
      },
      "execution_count": null,
      "outputs": [
        {
          "output_type": "execute_result",
          "data": {
            "text/plain": [
              "'bark bark bark bark bark bark...'"
            ],
            "application/vnd.google.colaboratory.intrinsic+json": {
              "type": "string"
            }
          },
          "metadata": {},
          "execution_count": 6
        }
      ]
    },
    {
      "cell_type": "markdown",
      "source": [
        "# Problem5"
      ],
      "metadata": {
        "id": "Q6AISIoxFkj7"
      }
    },
    {
      "cell_type": "code",
      "source": [
        "s = \"animal-horse\"\n",
        "#Output : ['animal', 'horse']\n",
        "s.split(\"-\")"
      ],
      "metadata": {
        "colab": {
          "base_uri": "https://localhost:8080/"
        },
        "id": "V4tPF_qGFopn",
        "outputId": "48857702-e6ca-4803-a4f0-4625b2736239"
      },
      "execution_count": null,
      "outputs": [
        {
          "output_type": "execute_result",
          "data": {
            "text/plain": [
              "['animal', 'horse']"
            ]
          },
          "metadata": {},
          "execution_count": 2
        }
      ]
    },
    {
      "cell_type": "markdown",
      "source": [
        "# Problem6"
      ],
      "metadata": {
        "id": "jCsn96zHGFni"
      }
    },
    {
      "cell_type": "code",
      "source": [
        "#Convert the ingredients list to a tuple.\n",
        "ingredients = ['caster sugar', \n",
        "               'double cream', \n",
        "               'butter', \n",
        "               'glucose syrup', \n",
        "               'vanilla bean paste']\n",
        "ingredients = tuple(ingredients)\n",
        "print(type(ingredients))\n",
        "#Output : <class 'tuple'>"
      ],
      "metadata": {
        "colab": {
          "base_uri": "https://localhost:8080/"
        },
        "id": "qaKeWRTxGIcz",
        "outputId": "cca36240-57dd-4453-97fd-e98287784d43"
      },
      "execution_count": null,
      "outputs": [
        {
          "output_type": "stream",
          "name": "stdout",
          "text": [
            "<class 'tuple'>\n"
          ]
        }
      ]
    },
    {
      "cell_type": "markdown",
      "source": [
        "# Problem7"
      ],
      "metadata": {
        "id": "3O3KRuMUHxek"
      }
    },
    {
      "cell_type": "code",
      "source": [
        "lst = ['numpy', 'pandas', 'scipy', 'scikit-learn', 'requests', 'django']\n",
        "#Output : 'pandas'\n",
        "lst[1]"
      ],
      "metadata": {
        "colab": {
          "base_uri": "https://localhost:8080/",
          "height": 35
        },
        "id": "oTyAW8TSH1Cy",
        "outputId": "471ecebc-3b86-42ba-8f84-1a964483b1df"
      },
      "execution_count": null,
      "outputs": [
        {
          "output_type": "execute_result",
          "data": {
            "text/plain": [
              "'pandas'"
            ],
            "application/vnd.google.colaboratory.intrinsic+json": {
              "type": "string"
            }
          },
          "metadata": {},
          "execution_count": 9
        }
      ]
    },
    {
      "cell_type": "markdown",
      "source": [
        "# Problem8"
      ],
      "metadata": {
        "id": "MpqPd9H3Ic5f"
      }
    },
    {
      "cell_type": "code",
      "source": [
        "def double_number(n):\n",
        "    return n * 2\n",
        "#Output : 8\n",
        "double_number(4)"
      ],
      "metadata": {
        "colab": {
          "base_uri": "https://localhost:8080/"
        },
        "id": "8YWCb7KAIgM0",
        "outputId": "0af6c544-1142-47de-dc72-8796abae800e"
      },
      "execution_count": null,
      "outputs": [
        {
          "output_type": "execute_result",
          "data": {
            "text/plain": [
              "8"
            ]
          },
          "metadata": {},
          "execution_count": 9
        }
      ]
    },
    {
      "cell_type": "markdown",
      "source": [
        "# Problem9"
      ],
      "metadata": {
        "id": "PZU9lk0CItCX"
      }
    },
    {
      "cell_type": "code",
      "source": [
        "def add(a, b = 10):\n",
        "    return a + b\n",
        "#Output : 30\n",
        "add(20)"
      ],
      "metadata": {
        "colab": {
          "base_uri": "https://localhost:8080/"
        },
        "id": "uzyldzOaIwNq",
        "outputId": "97f21179-2162-45c5-a243-898019cdee69"
      },
      "execution_count": null,
      "outputs": [
        {
          "output_type": "execute_result",
          "data": {
            "text/plain": [
              "30"
            ]
          },
          "metadata": {},
          "execution_count": 10
        }
      ]
    },
    {
      "cell_type": "markdown",
      "source": [
        "# Problem10"
      ],
      "metadata": {
        "id": "ruBWsJdmJL8H"
      }
    },
    {
      "cell_type": "code",
      "source": [
        "class Planet:\n",
        "    def __init__(self, name):\n",
        "        self.name = name\n",
        "v = Planet('venus')\n",
        "\n",
        "v.name\n",
        "#Output : 'venus'"
      ],
      "metadata": {
        "colab": {
          "base_uri": "https://localhost:8080/",
          "height": 35
        },
        "id": "l0nsq8ltJONF",
        "outputId": "4f80b232-834b-49f4-acb2-071bea4b1b5e"
      },
      "execution_count": null,
      "outputs": [
        {
          "output_type": "execute_result",
          "data": {
            "text/plain": [
              "'venus'"
            ],
            "application/vnd.google.colaboratory.intrinsic+json": {
              "type": "string"
            }
          },
          "metadata": {},
          "execution_count": 10
        }
      ]
    },
    {
      "cell_type": "markdown",
      "source": [
        "# Problem11"
      ],
      "metadata": {
        "id": "GAF4ZLG0KfwP"
      }
    },
    {
      "cell_type": "code",
      "source": [
        "#Change the rating of the book to 4.6\n",
        "\n",
        "book = {\n",
        "    'title': 'The Giver',\n",
        "    'author': 'Lois Lowry',\n",
        "    'rating': 4.13\n",
        "}\n",
        "#ANS\n",
        "book['rating']=4.6\n",
        "\n",
        "book['rating']\n",
        "#Output : 4.6"
      ],
      "metadata": {
        "colab": {
          "base_uri": "https://localhost:8080/"
        },
        "id": "GnfIOwNFKjBO",
        "outputId": "1ea894d1-2911-4c42-f433-7471a6b7a26a"
      },
      "execution_count": null,
      "outputs": [
        {
          "output_type": "execute_result",
          "data": {
            "text/plain": [
              "4.6"
            ]
          },
          "metadata": {},
          "execution_count": 13
        }
      ]
    },
    {
      "cell_type": "markdown",
      "source": [
        "# Problem12"
      ],
      "metadata": {
        "id": "n5cLQ4n6LMHf"
      }
    },
    {
      "cell_type": "code",
      "source": [
        "#Call the function defined below (with the appropriate input argument) to produce the desired output.\n",
        "\n",
        "def return_random(value):\n",
        "    return value\n",
        "#ANS\n",
        "return_random('two')\n",
        "#Output : 'two'"
      ],
      "metadata": {
        "colab": {
          "base_uri": "https://localhost:8080/",
          "height": 35
        },
        "id": "4tn5yTINLOpm",
        "outputId": "6ff02243-652b-4a65-ba72-4f8e3ee8794a"
      },
      "execution_count": null,
      "outputs": [
        {
          "output_type": "execute_result",
          "data": {
            "text/plain": [
              "'two'"
            ],
            "application/vnd.google.colaboratory.intrinsic+json": {
              "type": "string"
            }
          },
          "metadata": {},
          "execution_count": 14
        }
      ]
    },
    {
      "cell_type": "markdown",
      "source": [
        "# Problem13"
      ],
      "metadata": {
        "id": "Dh0U80s2LrNE"
      }
    },
    {
      "cell_type": "code",
      "source": [
        "for i in \"programming\":\n",
        "  if i == \"a\":\n",
        "    break\n",
        "  print(i)"
      ],
      "metadata": {
        "colab": {
          "base_uri": "https://localhost:8080/"
        },
        "id": "JdQdCQYcLt13",
        "outputId": "697a5cb4-3a84-476b-a3d9-44a10d9674fc"
      },
      "execution_count": null,
      "outputs": [
        {
          "output_type": "stream",
          "name": "stdout",
          "text": [
            "p\n",
            "r\n",
            "o\n",
            "g\n",
            "r\n"
          ]
        }
      ]
    },
    {
      "cell_type": "markdown",
      "source": [
        "# Problem14"
      ],
      "metadata": {
        "id": "9U60sQA5L8t5"
      }
    },
    {
      "cell_type": "code",
      "source": [
        "def to_int(x):\n",
        "    try:\n",
        "        return int(x)\n",
        "    #ANS\n",
        "    except ValueError:    \n",
        "        print(\"that value can't be turned into an integer\")\n",
        "\n",
        "to_int(\"\")\n",
        "#Output : that value can't be turned into an integer"
      ],
      "metadata": {
        "colab": {
          "base_uri": "https://localhost:8080/"
        },
        "id": "eKTVs6MFMFDp",
        "outputId": "1fa61790-77c5-49af-b861-97de099fef0d"
      },
      "execution_count": null,
      "outputs": [
        {
          "output_type": "stream",
          "name": "stdout",
          "text": [
            "that value can't be turned into an integer\n"
          ]
        }
      ]
    },
    {
      "cell_type": "markdown",
      "source": [
        "# Problem15"
      ],
      "metadata": {
        "id": "7dUzBMflNAQZ"
      }
    },
    {
      "cell_type": "code",
      "source": [
        "for i in \"hello\":\n",
        "  if i == \"l\":\n",
        "    continue\n",
        "  print(i)\n",
        "#Output : h\n",
        "#e\n",
        "#o"
      ],
      "metadata": {
        "colab": {
          "base_uri": "https://localhost:8080/"
        },
        "id": "qG1M4KfYNDYb",
        "outputId": "314b738f-5f85-4adc-a667-8492e4f90df1"
      },
      "execution_count": null,
      "outputs": [
        {
          "output_type": "stream",
          "name": "stdout",
          "text": [
            "h\n",
            "e\n",
            "o\n"
          ]
        }
      ]
    },
    {
      "cell_type": "markdown",
      "source": [
        "#Problem_1"
      ],
      "metadata": {
        "id": "H67CPurBinVO"
      }
    },
    {
      "cell_type": "code",
      "source": [
        "[i * 3 for i in range(5)]\n",
        "#ใช้list เฉยๆ"
      ],
      "metadata": {
        "colab": {
          "base_uri": "https://localhost:8080/"
        },
        "id": "Zzja-hHZipYT",
        "outputId": "76573608-c1f4-4df6-e573-8928ec1aa9ec"
      },
      "execution_count": null,
      "outputs": [
        {
          "output_type": "execute_result",
          "data": {
            "text/plain": [
              "[0, 3, 6, 9, 12]"
            ]
          },
          "metadata": {},
          "execution_count": 1
        }
      ]
    },
    {
      "cell_type": "markdown",
      "source": [
        "#Problem_4"
      ],
      "metadata": {
        "id": "5r1Mr2TtuAwT"
      }
    },
    {
      "cell_type": "code",
      "source": [
        "def make_dict(**kwargs):      #KeyWord arguments ต้องมี ** เท่านั้น\n",
        "    return kwargs\n",
        "\n",
        "make_dict(a = 1, b = 2)"
      ],
      "metadata": {
        "colab": {
          "base_uri": "https://localhost:8080/"
        },
        "id": "xIhSCDwquJev",
        "outputId": "064f43e2-3f6b-4e0e-c848-66faa3db3953"
      },
      "execution_count": null,
      "outputs": [
        {
          "output_type": "execute_result",
          "data": {
            "text/plain": [
              "{'a': 1, 'b': 2}"
            ]
          },
          "metadata": {},
          "execution_count": 1
        }
      ]
    },
    {
      "cell_type": "markdown",
      "source": [
        "#Problem_6"
      ],
      "metadata": {
        "id": "44ETDLlgu14q"
      }
    },
    {
      "cell_type": "code",
      "source": [
        "boardgames = [\n",
        "  'Pandemic Legacy: Season 1',  #เป็นList ถ้าเป็นDictionaryจะใช้ {}\n",
        "  'Terraforming Mars', \n",
        "  'Brass: Birmingham'\n",
        "]\n",
        "\n",
        "boardgames.insert(0, 'Gloomhaven')      #list.insert(position, element) List Method\n",
        "\n",
        "print(boardgames)"
      ],
      "metadata": {
        "colab": {
          "base_uri": "https://localhost:8080/"
        },
        "id": "Rj7csJiNu5l4",
        "outputId": "1416f21d-74e7-4c2f-9490-285d33639e7a"
      },
      "execution_count": null,
      "outputs": [
        {
          "output_type": "stream",
          "name": "stdout",
          "text": [
            "['Gloomhaven', 'Pandemic Legacy: Season 1', 'Terraforming Mars', 'Brass: Birmingham']\n"
          ]
        }
      ]
    },
    {
      "cell_type": "markdown",
      "source": [
        "#Problem_9"
      ],
      "metadata": {
        "id": "xUlB7mrive3w"
      }
    },
    {
      "cell_type": "code",
      "source": [
        "def fun_docs():\n",
        "    \"\"\"I know how to interact with the docstrings of a function.\"\"\"\n",
        "    \n",
        "    return None\n",
        "\n",
        "fun_docs.__doc__\n",
        "#or help(fun_docs)\n",
        "\n",
        "#Docstrings:เอาข้อความมาแสดง มี2วิธี\n",
        "#1. __doc__ method ex. fun_docs.__doc__\n",
        "#2.help function ex. help(fun_docs)"
      ],
      "metadata": {
        "colab": {
          "base_uri": "https://localhost:8080/"
        },
        "id": "4pR0RDRsvkP_",
        "outputId": "b24dbe33-927b-452f-ce07-6735048e154e"
      },
      "execution_count": null,
      "outputs": [
        {
          "output_type": "stream",
          "name": "stdout",
          "text": [
            "Help on function fun_docs in module __main__:\n",
            "\n",
            "fun_docs()\n",
            "    I know how to interact with the docstrings of a function.\n",
            "\n"
          ]
        }
      ]
    },
    {
      "cell_type": "markdown",
      "source": [
        "#Problem_10"
      ],
      "metadata": {
        "id": "pxJ2CU5J0koU"
      }
    },
    {
      "cell_type": "code",
      "source": [
        "[i * 2 for i in range(5)]"
      ],
      "metadata": {
        "colab": {
          "base_uri": "https://localhost:8080/"
        },
        "id": "Tb4A8fT50omd",
        "outputId": "5438a9ea-2c36-4ff8-ea65-dc20aa7ace05"
      },
      "execution_count": null,
      "outputs": [
        {
          "output_type": "execute_result",
          "data": {
            "text/plain": [
              "[0, 2, 4, 6, 8]"
            ]
          },
          "metadata": {},
          "execution_count": 5
        }
      ]
    },
    {
      "cell_type": "markdown",
      "source": [
        "#Problem_11"
      ],
      "metadata": {
        "id": "awcTITgfv07_"
      }
    },
    {
      "cell_type": "code",
      "source": [
        "ints = set([1,1,2,3,3,3,4])\n",
        "print(len(ints))\n",
        "\n",
        "#set function จะทำให้ ลิส[] เป็นset จึงไม่นับตัวซ้ำ"
      ],
      "metadata": {
        "colab": {
          "base_uri": "https://localhost:8080/"
        },
        "id": "-gNY8qzov4h0",
        "outputId": "c93873fa-5c1a-45dc-aa3a-6625e18f4ce8"
      },
      "execution_count": null,
      "outputs": [
        {
          "output_type": "stream",
          "name": "stdout",
          "text": [
            "4\n"
          ]
        }
      ]
    },
    {
      "cell_type": "markdown",
      "source": [
        "#Problem_13"
      ],
      "metadata": {
        "id": "gA_CebIvv_f7"
      }
    },
    {
      "cell_type": "code",
      "source": [
        "def add_many(*args):        #No Keyword arguments\n",
        "    s = 0\n",
        "    for n in args:\n",
        "        s += n\n",
        "    print(s)\n",
        "\n",
        "add_many(100, 50, 3)"
      ],
      "metadata": {
        "colab": {
          "base_uri": "https://localhost:8080/"
        },
        "id": "dzEuAlhMwCeD",
        "outputId": "fdb1e270-92f4-4847-ff98-1bde9faa2e45"
      },
      "execution_count": null,
      "outputs": [
        {
          "output_type": "stream",
          "name": "stdout",
          "text": [
            "153\n"
          ]
        }
      ]
    },
    {
      "cell_type": "markdown",
      "source": [
        "#Problem_14"
      ],
      "metadata": {
        "id": "UYfu0eTVwL6W"
      }
    },
    {
      "cell_type": "code",
      "source": [
        "class Planet:\n",
        "    def __init__(self, name, diameter_km):\n",
        "        self.name = name\n",
        "        self.diameter_km = diameter_km\n",
        "        \n",
        "e = Planet(\"Earth\", 12742)\n",
        "\n",
        "e.name, e.diameter_km"
      ],
      "metadata": {
        "colab": {
          "base_uri": "https://localhost:8080/"
        },
        "id": "03yNtVMuwOsl",
        "outputId": "3dce2803-7eaa-4fc3-e2eb-f1f8fdb8b496"
      },
      "execution_count": null,
      "outputs": [
        {
          "output_type": "execute_result",
          "data": {
            "text/plain": [
              "('Earth', 12742)"
            ]
          },
          "metadata": {},
          "execution_count": 6
        }
      ]
    }
  ]
}