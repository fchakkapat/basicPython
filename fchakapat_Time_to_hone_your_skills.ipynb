{
  "nbformat": 4,
  "nbformat_minor": 0,
  "metadata": {
    "colab": {
      "provenance": [],
      "include_colab_link": true
    },
    "language_info": {
      "name": "python"
    },
    "kernelspec": {
      "name": "python3",
      "display_name": "Python 3"
    }
  },
  "cells": [
    {
      "cell_type": "markdown",
      "metadata": {
        "id": "view-in-github",
        "colab_type": "text"
      },
      "source": [
        "<a href=\"https://colab.research.google.com/github/fchakkapat/basicPython/blob/main/fchakapat_Time_to_hone_your_skills.ipynb\" target=\"_parent\"><img src=\"https://colab.research.google.com/assets/colab-badge.svg\" alt=\"Open In Colab\"/></a>"
      ]
    },
    {
      "metadata": {
        "id": "uhtDM_e3Y5rP"
      },
      "cell_type": "markdown",
      "source": [
        "## ถึงเวลาฝึกเขียนฟังชั่นด้วยตัวคุณเอง\n",
        "\n",
        "![alt text](https://images.unsplash.com/photo-1530020212948-b057fc5c908c?ixlib=rb-0.3.5&ixid=eyJhcHBfaWQiOjEyMDd9&s=49e4719b1208fdfabd79cae325a1927a&auto=format&fit=crop&w=500&q=60)\n",
        "\n",
        "แบบฝึกหัดนี้ นักเรียนต้องเขียน function ทั้งหมด 10 functions และทดลองรันดูว่ามันทำงานได้ถูกต้องหรือเปล่า?\n",
        "\n",
        "เราจะให้ template และ docstring ไว้ และนักเรียนต้องเขียนต่อให้จบ \n",
        "\n",
        "ทบทวนนิดหน่อย\n",
        "- def keyword ใช้สร้างฟังชั่น\n",
        "- return keyword สามารถฝากค่า output ที่ได้จากฟังชั่นในตัวแปรใหม่ได้\n",
        "- ดูการย่อหน้าให้ดี ปกติ Python จะย่อหน้าให้เราอัตโนมัติ แบบ space bar 2 เคาะ (หรือ 4 เคาะ)\n",
        "\n",
        "## ห้ามดูเฉลยก่อนลองทำด้วยตัวเอง\n",
        "\n",
        "เฉลยของ 10 functions นี้จะอยู่ในวีดีโอ EP17 \n",
        "ทุกคนทำได้ !! พร้อมแล้วก็เริ่มกันเลย\n",
        "\n",
        "---\n",
        "\n"
      ]
    },
    {
      "metadata": {
        "id": "3z-ZmvBAa35q"
      },
      "cell_type": "markdown",
      "source": [
        "### function 1\n",
        "\n",
        "```\n",
        "def add_three_nums(a,b,c):\n",
        "    \"\"\"return the total sum of a b c\"\"\"\n",
        "    return value\n",
        "    \n",
        "### expected output\n",
        "add_three_nums(1,2,3) \n",
        "6\n",
        "```"
      ]
    },
    {
      "metadata": {
        "id": "U2q5hwYKY09V",
        "colab": {
          "base_uri": "https://localhost:8080/"
        },
        "outputId": "bee3d880-3082-4e70-f7f4-fbc6ea102f92"
      },
      "cell_type": "code",
      "source": [
        "def add_three_nums(a,b,c):\n",
        "  return a+b+c\n",
        "add_three_nums(1,2,3)"
      ],
      "execution_count": null,
      "outputs": [
        {
          "output_type": "execute_result",
          "data": {
            "text/plain": [
              "6"
            ]
          },
          "metadata": {},
          "execution_count": 1
        }
      ]
    },
    {
      "metadata": {
        "id": "pXLwqonZa9i9"
      },
      "cell_type": "markdown",
      "source": [
        "### function 2\n",
        "```\n",
        "def greeting():\n",
        "    \"\"\"print 'Hello' 5 times\"\"\"\n",
        "    print ...\n",
        "\n",
        "### expected output\n",
        "greeting()\n",
        "Hello\n",
        "Hello\n",
        "Hello\n",
        "Hello\n",
        "Hello\n",
        "```"
      ]
    },
    {
      "metadata": {
        "id": "b2XunsRDZInz",
        "colab": {
          "base_uri": "https://localhost:8080/"
        },
        "outputId": "f97ebc80-036f-40cd-d344-1eca305eac93"
      },
      "cell_type": "code",
      "source": [
        "## function2 - your code here\n",
        "def greeting():\n",
        "  for i in range(5):\n",
        "    print(\"Hello\\n\")\n",
        "\n",
        "greeting()"
      ],
      "execution_count": null,
      "outputs": [
        {
          "output_type": "stream",
          "name": "stdout",
          "text": [
            "Hello\n",
            "\n",
            "Hello\n",
            "\n",
            "Hello\n",
            "\n",
            "Hello\n",
            "\n",
            "Hello\n",
            "\n"
          ]
        }
      ]
    },
    {
      "metadata": {
        "id": "4SmXPvwha4yH"
      },
      "cell_type": "markdown",
      "source": [
        "### function 3\n",
        "``` \n",
        "def upper_case(word):\n",
        "    \"\"\"return upper-case of input word\"\"\"\n",
        "    return string\n",
        "    \n",
        "### expected output\n",
        "upper_case(\"castle\")\n",
        "'CASTLE'\n",
        "```\n",
        "\n"
      ]
    },
    {
      "metadata": {
        "id": "Tisbz-7mZJcy",
        "colab": {
          "base_uri": "https://localhost:8080/",
          "height": 35
        },
        "outputId": "7a0a771d-ddf9-4a36-ab5b-e168a4127615"
      },
      "cell_type": "code",
      "source": [
        "## function3 - your code here\n",
        "def upper_case(x):\n",
        "  return x.upper()\n",
        "upper_case(\"castle\")"
      ],
      "execution_count": null,
      "outputs": [
        {
          "output_type": "execute_result",
          "data": {
            "application/vnd.google.colaboratory.intrinsic+json": {
              "type": "string"
            },
            "text/plain": [
              "'CASTLE'"
            ]
          },
          "metadata": {},
          "execution_count": 22
        }
      ]
    },
    {
      "metadata": {
        "id": "He4mTIUYa5aV"
      },
      "cell_type": "markdown",
      "source": [
        "### function 4\n",
        "\n",
        "```\n",
        "def sum_list(list_a):\n",
        "    \"\"\"return total sum of all numbers in list_a\"\"\"\n",
        "    return value\n",
        "\n",
        "### expected output\n",
        "sum_list([1,2,3,4,5])\n",
        "15\n",
        "```\n",
        "\n"
      ]
    },
    {
      "metadata": {
        "id": "s1wzM5A8ZKQj",
        "colab": {
          "base_uri": "https://localhost:8080/"
        },
        "outputId": "3bc5f0b5-8932-404f-f81b-ce0df68d36df"
      },
      "cell_type": "code",
      "source": [
        "## function4 - your code here\n",
        "def sum_list(a):\n",
        "    b=0\n",
        "    for i in a:\n",
        "      b=b+i\n",
        "    print(b)\n",
        "\n",
        "sum_list([1,2,3,4,5])\n"
      ],
      "execution_count": null,
      "outputs": [
        {
          "output_type": "stream",
          "name": "stdout",
          "text": [
            "15\n"
          ]
        }
      ]
    },
    {
      "metadata": {
        "id": "mVmP14Xwa59J"
      },
      "cell_type": "markdown",
      "source": [
        "### function 5\n",
        "```\n",
        "def cube(value, power=3):\n",
        "    \"\"\"return value raised to power 3\"\"\"\n",
        "    return result\n",
        "    \n",
        "### expected output\n",
        "cube(2)\n",
        "8\n",
        "cube(3)\n",
        "27\n",
        "cube(4)\n",
        "64\n",
        "```"
      ]
    },
    {
      "metadata": {
        "id": "t9Gsrzb4ZLWD",
        "colab": {
          "base_uri": "https://localhost:8080/"
        },
        "outputId": "b8bd5f67-847a-4e18-9aa8-701506680111"
      },
      "cell_type": "code",
      "source": [
        "## function5 - your code here\n",
        "def cube(value, power=3):\n",
        "  value=value**power\n",
        "  return value\n",
        "cube(2)"
      ],
      "execution_count": null,
      "outputs": [
        {
          "output_type": "execute_result",
          "data": {
            "text/plain": [
              "8"
            ]
          },
          "metadata": {},
          "execution_count": 44
        }
      ]
    },
    {
      "metadata": {
        "id": "niMOO0KZa6bp"
      },
      "cell_type": "markdown",
      "source": [
        "### function 6\n",
        "\n",
        "```\n",
        "def first_last(list_a):\n",
        "    \"\"\"return first and last value of list_a\"\"\"\n",
        "    return list\n",
        "    \n",
        "### expected output\n",
        "first_last([1,2,3,4,5])\n",
        "[1, 5]\n",
        "first_last(['hi',2,3,4,5,'python'])\n",
        "['hi', 'python']\n",
        "```"
      ]
    },
    {
      "metadata": {
        "id": "1KUk-PhCZMtq",
        "colab": {
          "base_uri": "https://localhost:8080/"
        },
        "outputId": "bc05305e-2860-4a1a-834c-89b6afa44b72"
      },
      "cell_type": "code",
      "source": [
        "## function6 - your code here\n",
        "def first_last(list_a):\n",
        "  list1 = list((list_a[0],list_a[-1]))\n",
        "  return list1\n",
        "print(first_last([1,2,3,4,5]))\n",
        "print(first_last(['hi',2,3,4,5,'python']))\n"
      ],
      "execution_count": null,
      "outputs": [
        {
          "output_type": "stream",
          "name": "stdout",
          "text": [
            "[1, 5]\n",
            "['hi', 'python']\n"
          ]
        }
      ]
    },
    {
      "metadata": {
        "id": "Dtqg89y1a68w"
      },
      "cell_type": "markdown",
      "source": [
        "### function 7\n",
        "\n",
        "```\n",
        "def grade_calc(score):\n",
        "    \"\"\"return grade of this student\n",
        "    score >= 90 'A'\n",
        "    score >= 80 'B'\n",
        "    score >= 70 'C'\n",
        "    score >= 60 'D'\n",
        "    score < 60 'Failed'\n",
        "    \"\"\"\n",
        "    return grade\n",
        " \n",
        "### expected output\n",
        "grade_calc(99)\n",
        "A\n",
        "grade_calc(72)\n",
        "C\n",
        "grade_calc(52)\n",
        "Failed\n",
        "```"
      ]
    },
    {
      "metadata": {
        "id": "5kgGBi0CZNla",
        "colab": {
          "base_uri": "https://localhost:8080/"
        },
        "outputId": "dbdd1812-cdfe-483e-9bc6-9bbc444d183e"
      },
      "cell_type": "code",
      "source": [
        "## function7 - your code here\n",
        "def grade_calc(score):\n",
        "    if score >= 90 :\n",
        "      return 'A'\n",
        "    elif score >= 80 :\n",
        "      print('B')\n",
        "    elif score >= 70 :\n",
        "      print('C')\n",
        "    elif score >= 60 :\n",
        "      print('D')\n",
        "    else :\n",
        "      print('Failed')\n",
        "grade_calc(52)"
      ],
      "execution_count": null,
      "outputs": [
        {
          "output_type": "stream",
          "name": "stdout",
          "text": [
            "Failed\n"
          ]
        }
      ]
    },
    {
      "metadata": {
        "id": "GQJBcdyra7Xa"
      },
      "cell_type": "markdown",
      "source": [
        "### function 8\n",
        "\n",
        "```\n",
        "def grade_calc_list(list_of_score):\n",
        "    \"\"\"return grade of student in a list\n",
        "        modify your code in function 7\n",
        "    \"\"\"\n",
        "    return list\n",
        "    \n",
        "### expected output\n",
        "grade_calc_list([80, 92, 50])\n",
        "['B', 'A', 'Failed']\n",
        "grade_calc_list([20, 68, 75])\n",
        "['Failed', 'D', 'C']\n",
        "```"
      ]
    },
    {
      "metadata": {
        "id": "ihSrGrQWZOQS",
        "colab": {
          "base_uri": "https://localhost:8080/"
        },
        "outputId": "066ad266-de62-4883-f537-47076b5f88a7"
      },
      "cell_type": "code",
      "source": [
        "## function8 - your code here\n",
        "def grade_calc_list(list_of_score):\n",
        "  listA=[]\n",
        "  for score in list_of_score:\n",
        "      if score >= 90 :\n",
        "        listA.append('A')\n",
        "      elif score >= 80 :\n",
        "        listA.append('B')\n",
        "      elif score >= 70 :\n",
        "        listA.append('C')\n",
        "      elif score >= 60 :\n",
        "        listA.append('D')\n",
        "      else :\n",
        "        listA.append('Failed')\n",
        "  print(listA)\n",
        "\n",
        "grade_calc_list([20, 68, 75])"
      ],
      "execution_count": null,
      "outputs": [
        {
          "output_type": "stream",
          "name": "stdout",
          "text": [
            "['Failed', 'D', 'C']\n"
          ]
        }
      ]
    },
    {
      "metadata": {
        "id": "E7oMlh-mC1Ib"
      },
      "cell_type": "markdown",
      "source": [
        "# function 9 & function 10 -- Intermediate Level\n",
        "\n",
        "โจทย์ข้อ 9-10 จะยากขึ้นมาหน่อย เราใช้ทุกอย่างที่เรียนกันมาเลยในการเขียนฟังชั่นนี้\n",
        "- dictionary\n",
        "- for loop\n",
        "- if-else\n",
        "- string method\n",
        "\n",
        "ลองทำดูก่อน เสร็จแล้วลองไปดูเฉลยอีกทีนะครับ :)\n",
        "\n",
        "เพื่อช่วยให้การเขียนข้อ 9-10 ง่ายขึ้น เราให้ template มาเลย นักเรียนแค่เขียนโค้ดเพิ่มตรง ___"
      ]
    },
    {
      "metadata": {
        "id": "LHH2MRKPa7z5"
      },
      "cell_type": "markdown",
      "source": [
        "### function 9\n",
        "\n",
        "```\n",
        "def count_element(list_a):\n",
        "    \"\"\"count element in this list\n",
        "        and return a dictionary key-value pair\n",
        "    \"\"\"\n",
        "    result = {}\n",
        "    \n",
        "    for _____ in list_a:\n",
        "        if _____ in result:\n",
        "            result[_____] += 1\n",
        "        else:\n",
        "            result[_____] = 1\n",
        "    \n",
        "    return result\n",
        "\n",
        "### expected output\n",
        "count_element(['red', 'red', 'blue', 'green', 'blue'])\n",
        "{'red': 2, 'blue':2, 'green': 1}\n",
        "```"
      ]
    },
    {
      "metadata": {
        "id": "yahH_PGIZPQC",
        "colab": {
          "base_uri": "https://localhost:8080/"
        },
        "outputId": "18e73308-1667-4458-82f7-43ca36d03070"
      },
      "cell_type": "code",
      "source": [
        "## function9 - your code here\n",
        "def count_element(list_a):\n",
        "  result = {}\n",
        "  for i in list_a:\n",
        "      if i in result:\n",
        "            result[i] += 1\n",
        "      else:\n",
        "            result[i] = 1\n",
        "  return result\n",
        "count_element(['red', 'red', 'blue', 'green', 'blue'])"
      ],
      "execution_count": null,
      "outputs": [
        {
          "output_type": "execute_result",
          "data": {
            "text/plain": [
              "{'blue': 2, 'green': 1, 'red': 2}"
            ]
          },
          "metadata": {},
          "execution_count": 4
        }
      ]
    },
    {
      "metadata": {
        "id": "B9UP5GQla8LH"
      },
      "cell_type": "markdown",
      "source": [
        "### function 10\n",
        "\n",
        "```\n",
        "def special_func(text):\n",
        "    \"\"\"\n",
        "    How to write this function\n",
        "      1. lower-case the text\n",
        "      2. split text into list\n",
        "      3. upper-case the word 'PYTHON'\n",
        "      4. return the result\n",
        "    \"\"\"\n",
        "    \n",
        "    text = text._____()\n",
        "    text = text._____()\n",
        "    \n",
        "    result = []\n",
        "    \n",
        "    for word in text:\n",
        "        if word == 'python':\n",
        "            upper_word = word._____()\n",
        "            result.append(_____)\n",
        "        else:\n",
        "            result.append(_____)\n",
        "    \n",
        "    return result\n",
        "\n",
        "### example output\n",
        "special_func(\"I AM lEARning python PROGramming\")\n",
        "['i', 'am', 'learning', 'PYTHON', 'programming']\n",
        "\n",
        "special_func(\"python is very fun\")\n",
        "['PYTHON', 'is', 'very', 'fun']\n",
        "```"
      ]
    },
    {
      "metadata": {
        "id": "NKaAsPMFZQEa",
        "colab": {
          "base_uri": "https://localhost:8080/"
        },
        "outputId": "c6e32ee8-aa36-4e6c-f6d4-701ca2bf0ede"
      },
      "cell_type": "code",
      "source": [
        "## function10 - your code here\n",
        "def special_func(text):\n",
        "  text = text.lower()\n",
        "  text = text.split()\n",
        "  result = []\n",
        "\n",
        "  for word in text:\n",
        "      if word == 'python':\n",
        "         upper_word = word.upper()\n",
        "         result.append(upper_word)\n",
        "      else:\n",
        "         result.append(word)\n",
        "  return result\n",
        "print(special_func(\"python is very fun\"))\n",
        "print(special_func(\"I AM lEARning python PROGramming\"))"
      ],
      "execution_count": null,
      "outputs": [
        {
          "output_type": "stream",
          "name": "stdout",
          "text": [
            "['PYTHON', 'is', 'very', 'fun']\n",
            "['i', 'am', 'learning', 'PYTHON', 'programming']\n"
          ]
        }
      ]
    },
    {
      "metadata": {
        "id": "EYMv0ueoai5a"
      },
      "cell_type": "markdown",
      "source": [
        "## You are AWESOME !!\n",
        "\n",
        "Rememeber -- ก้าวแรกของการเป็น Pythonista คือการเขียนฟังชั่นใช้เองด้วย **def** keyword\n",
        "\n",
        "โอเคร !! ไปดูเฉลยได้ใน EP17 เลย"
      ]
    },
    {
      "cell_type": "markdown",
      "source": [
        "Print VS return"
      ],
      "metadata": {
        "id": "tLfbz5jqV-60"
      }
    },
    {
      "cell_type": "code",
      "source": [
        "# writing basic function in Python\n",
        "def greeting():\n",
        "  print(\"Hello World\")\n",
        "  \n",
        "# return vs. print\n",
        "def test_func():\n",
        "  return 100\n",
        "\n",
        "def test_func():\n",
        "  print(100)\n",
        "  \n",
        "x = test_func()\n",
        "y = test_func()\n",
        "\n",
        "print(x) #output: 100\n",
        "print(y) #output: None"
      ],
      "metadata": {
        "colab": {
          "base_uri": "https://localhost:8080/"
        },
        "id": "0z9l0OCoWJ-I",
        "outputId": "740b6606-aa39-4b36-cf8e-03e1cc398fae"
      },
      "execution_count": null,
      "outputs": [
        {
          "output_type": "stream",
          "name": "stdout",
          "text": [
            "100\n",
            "100\n",
            "None\n",
            "None\n"
          ]
        }
      ]
    }
  ]
}